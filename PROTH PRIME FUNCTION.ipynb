{
 "cells": [
  {
   "cell_type": "markdown",
   "metadata": {},
   "source": [
    "### Proth Numbers\n",
    "A **Proth number** is a number *N* of the form $N = k2^{n} + 1$ where *k* and *n* are positive integers, *k* is odd and $2^{n} > k$.\n",
    "\n",
    "### Proth Prime \n",
    "A **Proth prime** is a proth number that is prime. \n",
    "\n",
    "Without the condition $2^{n} > k$, all odd numbers larger than 1 would be Proth numbers.\n",
    "\n"
   ]
  },
  {
   "cell_type": "markdown",
   "metadata": {},
   "source": [
    "To check if a number is a proth number, we first define a function to check if a number is a power of two."
   ]
  },
  {
   "cell_type": "code",
   "execution_count": 3,
   "metadata": {},
   "outputs": [],
   "source": [
    "#function to check if the input is a power of two\n",
    "\n",
    "def isPowerOfTwo(n):\n",
    "    return (n and(not(n & (n-1))))"
   ]
  },
  {
   "cell_type": "code",
   "execution_count": 4,
   "metadata": {},
   "outputs": [
    {
     "data": {
      "text/plain": [
       "True"
      ]
     },
     "execution_count": 4,
     "metadata": {},
     "output_type": "execute_result"
    }
   ],
   "source": [
    "isPowerOfTwo(4)"
   ]
  },
  {
   "cell_type": "code",
   "execution_count": 5,
   "metadata": {},
   "outputs": [
    {
     "data": {
      "text/plain": [
       "False"
      ]
     },
     "execution_count": 5,
     "metadata": {},
     "output_type": "execute_result"
    }
   ],
   "source": [
    "isPowerOfTwo(6)"
   ]
  },
  {
   "cell_type": "markdown",
   "metadata": {},
   "source": [
    "The function below will check if the input is a  proth number or not"
   ]
  },
  {
   "cell_type": "code",
   "execution_count": 6,
   "metadata": {},
   "outputs": [
    {
     "name": "stdout",
     "output_type": "stream",
     "text": [
      "9 is a Proth number\n"
     ]
    }
   ],
   "source": [
    "def isProthNumber(n):\n",
    "    k = 1\n",
    "    while (k <(n//k)):\n",
    "        \n",
    "        #check if n is divisible by k\n",
    "        if(n % k == 0):\n",
    "            \n",
    "            # checks if n/k is power of 2\n",
    "            if(isPowerOfTwo(n//k)):\n",
    "                return True\n",
    "        \n",
    "        # update k to the next odd number\n",
    "        k = k + 2\n",
    "        \n",
    "    return False\n",
    "\n",
    "# calling the function,\n",
    "n = 9\n",
    "if (isProthNumber(n-1)):\n",
    "    print(f'{n} is a Proth number.')\n",
    "else:\n",
    "    print(f'{n} is not a Proth number.')\n"
   ]
  },
  {
   "cell_type": "code",
   "execution_count": 8,
   "metadata": {},
   "outputs": [],
   "source": [
    "# to return a list of proth numbers between two margins,\n",
    "def print_Proth_Numbers(n_start, n_end):\n",
    "    my_list = []\n",
    "    for i in range(n_start, n_end):\n",
    "        if (isProthNumber(i-1)) == True:\n",
    "            my_list.append(i)\n",
    "    print (my_list)"
   ]
  },
  {
   "cell_type": "code",
   "execution_count": 9,
   "metadata": {},
   "outputs": [
    {
     "name": "stdout",
     "output_type": "stream",
     "text": [
      "[3, 5, 9, 13, 17]\n"
     ]
    }
   ],
   "source": [
    "my_list = print_Proth_Numbers(1, 20)"
   ]
  },
  {
   "cell_type": "code",
   "execution_count": 15,
   "metadata": {},
   "outputs": [
    {
     "name": "stdout",
     "output_type": "stream",
     "text": [
      "4 is not a proth number \n"
     ]
    }
   ],
   "source": [
    "def proth_prime(p):\n",
    "    if (isProthNumber(p-1)):\n",
    "        #trying to put primality test \n",
    "        a = -p\n",
    "        u = a **((((p-1)/2) + 1) % p)\n",
    "        if u == -1:\n",
    "            print(f'{p} is a proth prime')\n",
    "        else:\n",
    "            print(f'{p} is not a proth prime')\n",
    "    else:\n",
    "        print(f'{p} is not a proth number ')\n",
    "        \n",
    "\n",
    "        \n",
    "proth_prime(4)"
   ]
  },
  {
   "cell_type": "code",
   "execution_count": null,
   "metadata": {},
   "outputs": [],
   "source": []
  }
 ],
 "metadata": {
  "kernelspec": {
   "display_name": "Python 3",
   "language": "python",
   "name": "python3"
  },
  "language_info": {
   "codemirror_mode": {
    "name": "ipython",
    "version": 3
   },
   "file_extension": ".py",
   "mimetype": "text/x-python",
   "name": "python",
   "nbconvert_exporter": "python",
   "pygments_lexer": "ipython3",
   "version": "3.7.6"
  }
 },
 "nbformat": 4,
 "nbformat_minor": 4
}
