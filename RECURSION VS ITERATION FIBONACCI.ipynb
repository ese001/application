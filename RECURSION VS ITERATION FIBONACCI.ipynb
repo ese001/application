{
 "cells": [
  {
   "cell_type": "markdown",
   "metadata": {},
   "source": [
    "## The bottlenecks of using **recursion**  to find the fibonacci of a number."
   ]
  },
  {
   "cell_type": "markdown",
   "metadata": {},
   "source": [
    "**Recursion** is the programming concept that defines a function in terms of itself or calls itself. \n",
    "It is used to compute the nth Fibonacci number."
   ]
  },
  {
   "cell_type": "markdown",
   "metadata": {},
   "source": [
    "In Mathematics, the **Fibonacci** numbers commonly denoted $F_n$ form a sequence such that each number is the sum of the two preceding ones, starting from 0 and 1. -Wikipedia \n",
    "\n",
    "$$F_0 = 0$$\n",
    "$$F_1 = 1$$\n",
    "$$F_n = F_{n-1} + F_{n-2}$$\n",
    "for $n > 1$\n",
    "\n",
    "The first 10 fibonacci numbers are $ 0, 1, 1, 2, 3, 5, 8, 13, 21, 34 $"
   ]
  },
  {
   "cell_type": "markdown",
   "metadata": {},
   "source": [
    "The formula above can be said to be a recursive formula as we can expand $F_{n-1}$ in the same way that we've expanded $F_n$ as $F_{n-1} + F_{n-2}$.\n",
    "\n",
    "$F_{n-1}$ would become $F_{n-2} + F_{n-3}$ \n",
    "\n",
    "until eventually, we would hit $F_0$ and $F_1$ which we know to be $0$ and $1$ respectively."
   ]
  },
  {
   "cell_type": "code",
   "execution_count": 1,
   "metadata": {},
   "outputs": [],
   "source": [
    "# fibonacci_recursive is used to calculate the nth fibonacci number using the formula above.\n",
    "\n",
    "def fibonacci_recursive(n):    \n",
    "    if n == 0:\n",
    "        return 0\n",
    "    elif n == 1:\n",
    "        return 1\n",
    "    else:\n",
    "        return fibonacci_recursive(n-1)  + fibonacci_recursive(n-2)"
   ]
  },
  {
   "cell_type": "code",
   "execution_count": 2,
   "metadata": {},
   "outputs": [
    {
     "data": {
      "text/plain": [
       "5"
      ]
     },
     "execution_count": 2,
     "metadata": {},
     "output_type": "execute_result"
    }
   ],
   "source": [
    "# calling the function\n",
    "fibonacci_recursive(5)\n"
   ]
  },
  {
   "cell_type": "code",
   "execution_count": 3,
   "metadata": {},
   "outputs": [
    {
     "data": {
      "text/plain": [
       "5"
      ]
     },
     "execution_count": 3,
     "metadata": {},
     "output_type": "execute_result"
    }
   ],
   "source": [
    "# 5 is arrived at by computing\n",
    "fibonacci_recursive(4) + fibonacci_recursive(3)"
   ]
  },
  {
   "cell_type": "code",
   "execution_count": 4,
   "metadata": {},
   "outputs": [
    {
     "data": {
      "text/plain": [
       "5"
      ]
     },
     "execution_count": 4,
     "metadata": {},
     "output_type": "execute_result"
    }
   ],
   "source": [
    "#breaking down the stack of recursive calls to the function, we get\n",
    "fibonacci_recursive(3) + fibonacci_recursive(2) + fibonacci_recursive(2) + fibonacci_recursive(1)"
   ]
  },
  {
   "cell_type": "code",
   "execution_count": 5,
   "metadata": {},
   "outputs": [
    {
     "data": {
      "text/plain": [
       "5"
      ]
     },
     "execution_count": 5,
     "metadata": {},
     "output_type": "execute_result"
    }
   ],
   "source": [
    "#expanding it one more level gives:\n",
    "fibonacci_recursive(2) + fibonacci_recursive(1) + \n",
    "fibonacci_recursive(1) + fibonacci_recursive(0) + \n",
    "fibonacci_recursive(1) + fibonacci_recursive(0) +\n",
    "fibonacci_recursive(1)\n",
    "\n",
    "#note that fibonacci_recursive(1) does not make a recursive call because it is a base case."
   ]
  },
  {
   "cell_type": "code",
   "execution_count": 7,
   "metadata": {},
   "outputs": [
    {
     "data": {
      "text/plain": [
       "5"
      ]
     },
     "execution_count": 7,
     "metadata": {},
     "output_type": "execute_result"
    }
   ],
   "source": [
    "#replacing fibonacci_recursive(1) and fibonacci_recursive(0) with 1 and 0 returns the same result.\n",
    "(fibonacci_recursive(2) + 1 +\n",
    "1 + 0 +\n",
    "1 + 0 + \n",
    "1)"
   ]
  },
  {
   "cell_type": "markdown",
   "metadata": {},
   "source": [
    "From the example above, each time we call a recursive function, it expands out into a set of function calls that eventually resolve to definite results."
   ]
  },
  {
   "cell_type": "markdown",
   "metadata": {},
   "source": [
    "The problem, however with the recursive function is that we compute some answers more than once.\n",
    "This is not very efficient as we are calculating the same thing over and over.\n",
    "\n",
    "To see how many times the function is called on each element, we create another function.\n",
    "Essentially, each time we cal fibonacci_recursive, \n",
    "However, we add the dictionary, `d` which will keep track of how many times we have seen a call for the nth fibonacci number so whenever a fibonacci count for some `n` is called, the value of the dictionary at position `n` is incremented by one."
   ]
  },
  {
   "cell_type": "code",
   "execution_count": 8,
   "metadata": {},
   "outputs": [],
   "source": [
    "from collections import defaultdict\n",
    "def fibonacci_count(n, d):\n",
    "    d[n] += 1\n",
    "    if n == 0:\n",
    "        return 0, d\n",
    "    elif n == 1:\n",
    "        return 1, d\n",
    "    else:\n",
    "        n1, _ = fibonacci_count(n-1, d)\n",
    "        n2, _ = fibonacci_count(n-2, d)\n",
    "        return n1 + n2, d\n"
   ]
  },
  {
   "cell_type": "code",
   "execution_count": 9,
   "metadata": {},
   "outputs": [
    {
     "name": "stdout",
     "output_type": "stream",
     "text": [
      "0 3\n",
      "1 5\n",
      "2 3\n",
      "3 2\n",
      "4 1\n"
     ]
    }
   ],
   "source": [
    "#we run the function for N = 5\n",
    "N = 5\n",
    "ans, d = fibonacci_count(N, defaultdict(int))\n",
    "for i in range(N):\n",
    "    print(i, d[i])"
   ]
  },
  {
   "cell_type": "markdown",
   "metadata": {},
   "source": [
    "### This little tree here illustrates the number of recursive stacks. \n",
    "\n",
    "              5\n",
    "          4       3\n",
    "         3 2     2 1\n",
    "       2 1 1 0  1 0\n",
    "      1 0"
   ]
  },
  {
   "cell_type": "code",
   "execution_count": 10,
   "metadata": {},
   "outputs": [
    {
     "name": "stdout",
     "output_type": "stream",
     "text": [
      "75025\n",
      "0 46368\n",
      "1 75025\n",
      "2 46368\n",
      "3 28657\n",
      "4 17711\n",
      "5 10946\n",
      "6 6765\n",
      "7 4181\n",
      "8 2584\n",
      "9 1597\n",
      "10 987\n",
      "11 610\n",
      "12 377\n",
      "13 233\n",
      "14 144\n",
      "15 89\n",
      "16 55\n",
      "17 34\n",
      "18 21\n",
      "19 13\n",
      "20 8\n",
      "21 5\n",
      "22 3\n",
      "23 2\n",
      "24 1\n"
     ]
    }
   ],
   "source": [
    "# calling the function for N = 25\n",
    "N = 25\n",
    "ans, d = fibonacci_count(N, defaultdict(int))\n",
    "print(ans)\n",
    "for i in range(N):\n",
    "    print(i, d[i])"
   ]
  },
  {
   "cell_type": "markdown",
   "metadata": {},
   "source": [
    "Notice that we could be calling some of these functions with the same argument thousands of times.\n",
    "This proves to be inefficient as it takes a lot of time. \n",
    "\n",
    "**Memoization** stores the answer to the problem instead of recomputing it thereby reducing the time or computational complexity."
   ]
  },
  {
   "cell_type": "code",
   "execution_count": 11,
   "metadata": {},
   "outputs": [],
   "source": [
    "def fibonacci_mem(n, d):\n",
    "    if n in d:\n",
    "        return d[n]\n",
    "    elif n == 0:\n",
    "        ans = 0\n",
    "    elif n == 1:\n",
    "        ans = 1\n",
    "    else:\n",
    "        ans = fibonacci_mem(n-1, d) + fibonacci_mem(n-2, d)\n",
    "    d[n] = ans\n",
    "    return ans"
   ]
  },
  {
   "cell_type": "code",
   "execution_count": 12,
   "metadata": {},
   "outputs": [
    {
     "name": "stdout",
     "output_type": "stream",
     "text": [
      "37.1 µs ± 3.47 µs per loop (mean ± std. dev. of 7 runs, 10000 loops each)\n"
     ]
    }
   ],
   "source": [
    "%%timeit\n",
    "fibonacci_mem(33, {0:0,1:1})"
   ]
  },
  {
   "cell_type": "code",
   "execution_count": 13,
   "metadata": {},
   "outputs": [
    {
     "name": "stdout",
     "output_type": "stream",
     "text": [
      "3.97 s ± 691 ms per loop (mean ± std. dev. of 7 runs, 1 loop each)\n"
     ]
    }
   ],
   "source": [
    "%%timeit\n",
    "fibonacci_recursive(33)"
   ]
  },
  {
   "cell_type": "code",
   "execution_count": 14,
   "metadata": {},
   "outputs": [
    {
     "data": {
      "text/plain": [
       "True"
      ]
     },
     "execution_count": 14,
     "metadata": {},
     "output_type": "execute_result"
    }
   ],
   "source": [
    "fibonacci_mem(33, {}) == fibonacci_recursive(33)"
   ]
  },
  {
   "cell_type": "markdown",
   "metadata": {},
   "source": [
    "\n",
    "The memoized solution does much better, it is several orders of magnitude faster than the bare recursive solution. \n",
    "However, it does come at a cost, although computation is saved, we must use more memory to store the previous result leading to memory complexity."
   ]
  }
 ],
 "metadata": {
  "kernelspec": {
   "display_name": "Python 3",
   "language": "python",
   "name": "python3"
  },
  "language_info": {
   "codemirror_mode": {
    "name": "ipython",
    "version": 3
   },
   "file_extension": ".py",
   "mimetype": "text/x-python",
   "name": "python",
   "nbconvert_exporter": "python",
   "pygments_lexer": "ipython3",
   "version": "3.7.6"
  }
 },
 "nbformat": 4,
 "nbformat_minor": 4
}
